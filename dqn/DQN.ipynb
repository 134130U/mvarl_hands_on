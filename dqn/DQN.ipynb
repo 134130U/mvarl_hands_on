{
 "cells": [
  {
   "cell_type": "code",
   "execution_count": 1,
   "metadata": {},
   "outputs": [],
   "source": [
    "# Colab setup\n",
    "\n",
    "!pip install gym > /dev/null 2>&1\n",
    "\n",
    "!apt-get install -y xvfb python-opengl ffmpeg > /dev/null 2>&1\n",
    "\n",
    "!git clone https://github.com/yfletberliac/rlss2019-hands-on.git > /dev/null 2>&1\n",
    "!pip install -q torch==1.1.0 torchvision pyvirtualdisplay piglet > /dev/null 2>&1"
   ]
  },
  {
   "cell_type": "markdown",
   "metadata": {},
   "source": [
    "# Deep Q-Learning (DQN)\n",
    "\n",
    "\n",
    "In DQN, the $Q$-function is parameterized by a neural network of parameters $\\theta$. The network takes as input a state $s$ and outputs $Q(s, a, \\theta)$ for all actions $a$. \n",
    "\n",
    "The network is trained in way that is similar to Fitted Q Iteration. At each time $T$, the agent has observed the transitions $(s_t, a_t, r_t, s_t')_{t=1}^T$, which are stored in a __replay buffer__.\n",
    "\n",
    "In addition to the network with parameters $\\theta$, DQN keeps another network with the same architecture and parameter $\\tilde{\\theta}$, called __target network__. \n",
    "To update the parameters $\\theta$, we sample $N$ transitions from the __replay buffer__, we define the loss \n",
    "\n",
    "$$\n",
    "L(\\theta) = \\sum_{i=1}^N [Q(s_i, a_i, \\theta) - (r_i + \\gamma\\max_{a'}Q(s'_i,a', \\tilde{\\theta}))]^2\n",
    "$$\n",
    "\n",
    "and update \n",
    "\n",
    "$$\n",
    "\\theta \\gets \\theta + \\eta \\nabla L(\\theta).\n",
    "$$\n",
    "\n",
    "\n",
    "Every $C$ iterations, the target network is updated as $\\tilde{\\theta} \\gets \\theta$. \n",
    "\n",
    "At each time $t$, DQN updates the networks as described above, selects an action according to an $\\epsilon$-greedy, plays the action and stores the new data in the replay buffer."
   ]
  },
  {
   "cell_type": "code",
   "execution_count": 2,
   "metadata": {},
   "outputs": [],
   "source": [
    "# Imports\n",
    "import torch\n",
    "import torch.nn as nn\n",
    "import torch.nn.functional as F\n",
    "import torch.optim as optim\n",
    "import numpy as np\n",
    "import gym\n",
    "import random\n",
    "from copy import deepcopy\n",
    "\n",
    "from gym.wrappers import Monitor\n",
    "from pyvirtualdisplay import Display\n",
    "from IPython import display as ipythondisplay\n",
    "from IPython.display import clear_output\n",
    "from pathlib import Path\n",
    "import base64"
   ]
  },
  {
   "cell_type": "markdown",
   "metadata": {},
   "source": [
    "## Step 1: Define the parameters"
   ]
  },
  {
   "cell_type": "code",
   "execution_count": 3,
   "metadata": {},
   "outputs": [
    {
     "name": "stderr",
     "output_type": "stream",
     "text": [
      "/home/omardrwch/miniconda3/envs/rlpython/lib/python3.7/site-packages/gym/logger.py:30: UserWarning: \u001b[33mWARN: Box bound precision lowered by casting to float32\u001b[0m\n",
      "  warnings.warn(colorize('%s: %s'%('WARN', msg % args), 'yellow'))\n"
     ]
    }
   ],
   "source": [
    "# Environment\n",
    "env = gym.make(\"CartPole-v0\")\n",
    "\n",
    "# Discount factor\n",
    "GAMMA = 0.99\n",
    "\n",
    "# Batch size\n",
    "BATCH_SIZE = 256\n",
    "# Capacity of the replay buffer\n",
    "BUFFER_CAPACITY = 10000\n",
    "# Update target net every ... episodes\n",
    "UPDATE_TARGET_EVERY = 20\n",
    "\n",
    "# Initial value of epsilon\n",
    "EPSILON_START = 1.0\n",
    "# Parameter to decrease epsilon\n",
    "DECREASE_EPSILON = 200\n",
    "# Minimum value of epislon\n",
    "EPSILON_MIN = 0.05\n",
    "\n",
    "# Number of training episodes\n",
    "N_EPISODES = 200\n",
    "\n",
    "# Learning rate\n",
    "LEARNING_RATE = 0.1"
   ]
  },
  {
   "cell_type": "markdown",
   "metadata": {},
   "source": [
    "## Step 2: Define the replay buffer"
   ]
  },
  {
   "cell_type": "code",
   "execution_count": 4,
   "metadata": {},
   "outputs": [],
   "source": [
    "class ReplayBuffer:\n",
    "    def __init__(self, capacity):\n",
    "        self.capacity = capacity\n",
    "        self.memory = []\n",
    "        self.position = 0\n",
    "\n",
    "    def push(self, state, action, reward, next_state):\n",
    "        \"\"\"Saves a transition.\"\"\"\n",
    "        if len(self.memory) < self.capacity:\n",
    "            self.memory.append(None)\n",
    "        self.memory[self.position] = (state, action, reward, next_state)\n",
    "        self.position = (self.position + 1) % self.capacity\n",
    "\n",
    "    def sample(self, batch_size):\n",
    "        return random.sample(self.memory, batch_size)\n",
    "\n",
    "    def __len__(self):\n",
    "        return len(self.memory)"
   ]
  },
  {
   "cell_type": "code",
   "execution_count": 5,
   "metadata": {},
   "outputs": [],
   "source": [
    "# create instance of replay buffer\n",
    "replay_buffer = ReplayBuffer(BUFFER_CAPACITY)"
   ]
  },
  {
   "cell_type": "markdown",
   "metadata": {},
   "source": [
    "## Step 3: Define the neural network architecture, objective and optimizer"
   ]
  },
  {
   "cell_type": "code",
   "execution_count": 6,
   "metadata": {},
   "outputs": [],
   "source": [
    "class Net(nn.Module):\n",
    "    \"\"\"\n",
    "    Basic neural net.\n",
    "    \"\"\"\n",
    "    def __init__(self, obs_size, hidden_size, n_actions):\n",
    "        super(Net, self).__init__()\n",
    "        self.net = nn.Sequential(\n",
    "            nn.Linear(obs_size, hidden_size),\n",
    "            nn.ReLU(),\n",
    "            nn.Linear(hidden_size, n_actions)\n",
    "        )\n",
    "\n",
    "    def forward(self, x):\n",
    "        return self.net(x)"
   ]
  },
  {
   "cell_type": "code",
   "execution_count": 7,
   "metadata": {},
   "outputs": [],
   "source": [
    "# create network and target network\n",
    "hidden_size = 128\n",
    "obs_size = env.observation_space.shape[0]\n",
    "n_actions = env.action_space.n\n",
    "\n",
    "q_net = Net(obs_size, hidden_size, n_actions)\n",
    "target_net = Net(obs_size, hidden_size, n_actions)\n",
    "\n",
    "# objective and optimizer\n",
    "objective = nn.MSELoss()\n",
    "optimizer = optim.Adam(params=q_net.parameters(), lr=LEARNING_RATE)"
   ]
  },
  {
   "cell_type": "markdown",
   "metadata": {},
   "source": [
    "## Step 4: Implement DQN"
   ]
  },
  {
   "cell_type": "code",
   "execution_count": 8,
   "metadata": {},
   "outputs": [],
   "source": [
    "#\n",
    "#  Some useful functions\n",
    "#\n",
    "\n",
    "def get_q(states):\n",
    "    \"\"\"\n",
    "    Compute Q function for a list of states\n",
    "    \"\"\"\n",
    "    with torch.no_grad():\n",
    "        states_v = torch.FloatTensor([states])\n",
    "        output = q_net.forward(states_v).data.numpy()  # shape (1, len(states), dim_state)\n",
    "    return output[0, :, :]  # shape (len(states), dim_state)\n",
    "\n",
    "def dqn_policy(s):\n",
    "    \"\"\"\n",
    "    Choose action at s using q_net\n",
    "    \"\"\"\n",
    "    if not isinstance(s, np.ndarray):\n",
    "        raise TypeError(\"Vector encoding expected for state variable.\")\n",
    "    q = get_q([s])[0]\n",
    "    return q.argmax()\n",
    "\n",
    "def eval_dqn(n_sim=5):\n",
    "    \"\"\"\n",
    "    Monte Carlo evaluation of DQN agent\n",
    "    \"\"\"\n",
    "    rewards = []\n",
    "    copy_env = deepcopy(env)\n",
    "    for sim in range(n_sim):\n",
    "        done = False\n",
    "        state = copy_env.reset()\n",
    "        sim_rewards = 0.0\n",
    "        while not done:\n",
    "            action = dqn_policy(state)\n",
    "            next_state, reward, done, _ = copy_env.step(action)\n",
    "            sim_rewards += reward\n",
    "            state = next_state\n",
    "        rewards.append(sim_rewards)\n",
    "    return rewards"
   ]
  },
  {
   "cell_type": "code",
   "execution_count": 9,
   "metadata": {},
   "outputs": [],
   "source": [
    "def choose_action(state, epsilon):\n",
    "    \"\"\"\n",
    "    TO BE IMPLEMENTED\n",
    "    \n",
    "    Return action according to an epsilon-greedy exploration policy\n",
    "    \"\"\"\n",
    "    return 0\n",
    "    \n",
    "\n",
    "def update(state, action, reward, next_state, done):\n",
    "    \"\"\"\n",
    "    TO BE COMPLETED\n",
    "    \"\"\"\n",
    "    \n",
    "    # add data to replay buffer\n",
    "    if done:\n",
    "        next_state = None\n",
    "    replay_buffer.push(state, action, reward, next_state)\n",
    "    \n",
    "    if len(replay_buffer) < BATCH_SIZE:\n",
    "        return np.inf\n",
    "    \n",
    "    # get batch\n",
    "    transitions = replay_buffer.sample(BATCH_SIZE)\n",
    "    \n",
    "    # Compute loss - TO BE IMPLEMENTED!\n",
    "    values  = torch.zeros(BATCH_SIZE)   # to be computed using batch\n",
    "    targets = torch.zeros(BATCH_SIZE)   # to be computed using batch\n",
    "    loss = objective(values, targets)\n",
    "     \n",
    "    # Optimize the model - UNCOMMENT!\n",
    "#     optimizer.zero_grad()\n",
    "#     loss.backward()\n",
    "#     optimizer.step()\n",
    "    \n",
    "    return loss.data.numpy()"
   ]
  },
  {
   "cell_type": "code",
   "execution_count": 10,
   "metadata": {},
   "outputs": [
    {
     "name": "stdout",
     "output_type": "stream",
     "text": [
      "episode = 5 , reward =  9.4\n",
      "episode = 10 , reward =  9.0\n",
      "episode = 15 , reward =  9.8\n",
      "episode = 20 , reward =  9.2\n",
      "episode = 25 , reward =  9.0\n",
      "episode = 30 , reward =  10.0\n",
      "episode = 35 , reward =  8.8\n",
      "episode = 40 , reward =  8.8\n",
      "episode = 45 , reward =  9.2\n",
      "episode = 50 , reward =  9.4\n",
      "episode = 55 , reward =  9.2\n",
      "episode = 60 , reward =  8.6\n",
      "episode = 65 , reward =  9.2\n",
      "episode = 70 , reward =  9.2\n",
      "episode = 75 , reward =  8.8\n",
      "episode = 80 , reward =  9.0\n",
      "episode = 85 , reward =  9.6\n",
      "episode = 90 , reward =  9.4\n",
      "episode = 95 , reward =  9.4\n",
      "episode = 100 , reward =  9.4\n",
      "episode = 105 , reward =  9.2\n",
      "episode = 110 , reward =  9.8\n",
      "episode = 115 , reward =  9.4\n",
      "episode = 120 , reward =  9.0\n",
      "episode = 125 , reward =  9.2\n",
      "episode = 130 , reward =  9.4\n",
      "episode = 135 , reward =  9.8\n",
      "episode = 140 , reward =  9.2\n",
      "episode = 145 , reward =  9.4\n",
      "episode = 150 , reward =  9.6\n",
      "episode = 155 , reward =  9.4\n",
      "episode = 160 , reward =  9.6\n",
      "episode = 165 , reward =  9.8\n",
      "episode = 170 , reward =  10.2\n",
      "episode = 175 , reward =  9.0\n",
      "episode = 180 , reward =  9.2\n",
      "episode = 185 , reward =  9.4\n",
      "episode = 190 , reward =  9.4\n",
      "episode = 195 , reward =  9.0\n",
      "episode = 200 , reward =  9.2\n",
      "\n",
      "mean reward after training =  9.8\n"
     ]
    }
   ],
   "source": [
    "#\n",
    "# Train\n",
    "# \n",
    "\n",
    "EVAL_EVERY = 5\n",
    "REWARD_THRESHOLD = 199\n",
    "\n",
    "def train():\n",
    "    state = env.reset()\n",
    "    epsilon = EPSILON_START\n",
    "    ep = 0\n",
    "    total_time = 0\n",
    "    while ep < N_EPISODES:\n",
    "        action = choose_action(state, epsilon)\n",
    "\n",
    "        # take action and update replay buffer and networks\n",
    "        next_state, reward, done, _ = env.step(action)\n",
    "        loss = update(state, action, reward, next_state, done)\n",
    "\n",
    "        # update state\n",
    "        state = next_state\n",
    "\n",
    "        # end episode if done\n",
    "        if done:\n",
    "            state = env.reset()\n",
    "            ep   += 1\n",
    "            rewards = eval_dqn()\n",
    "            if ( (ep+1)% EVAL_EVERY == 0):\n",
    "                print(\"episode =\", ep+1, \", reward = \", np.mean(rewards))\n",
    "                if np.mean(rewards) >= REWARD_THRESHOLD:\n",
    "                    break\n",
    "\n",
    "            # update target network\n",
    "            if ep % UPDATE_TARGET_EVERY == 0:\n",
    "                target_net.load_state_dict(q_net.state_dict())\n",
    "            # decrease epsilon\n",
    "            epsilon = EPSILON_MIN + (EPSILON_START - EPSILON_MIN) * \\\n",
    "                            np.exp(-1. * ep / DECREASE_EPSILON )    \n",
    "\n",
    "        total_time += 1\n",
    "\n",
    "train()\n",
    "rewards = eval_dqn(20)\n",
    "print(\"\")\n",
    "print(\"mean reward after training = \", np.mean(rewards))"
   ]
  },
  {
   "cell_type": "markdown",
   "metadata": {},
   "source": [
    "## Visualizing the agent"
   ]
  },
  {
   "cell_type": "code",
   "execution_count": 11,
   "metadata": {},
   "outputs": [
    {
     "data": {
      "text/html": [
       "<video alt=\"videos/openaigym.video.0.15574.video000000.mp4\" autoplay \n",
       "                      loop controls style=\"height: 400px;\">\n",
       "                      <source src=\"data:video/mp4;base64,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\" type=\"video/mp4\" />\n",
       "                 </video>"
      ],
      "text/plain": [
       "<IPython.core.display.HTML object>"
      ]
     },
     "metadata": {},
     "output_type": "display_data"
    }
   ],
   "source": [
    "display = Display(visible=0, size=(1400, 900))\n",
    "display.start()\n",
    "\n",
    "def show_video():\n",
    "    html = []\n",
    "    for mp4 in Path(\"videos\").glob(\"*.mp4\"):\n",
    "        video_b64 = base64.b64encode(mp4.read_bytes())\n",
    "        html.append('''<video alt=\"{}\" autoplay \n",
    "                      loop controls style=\"height: 400px;\">\n",
    "                      <source src=\"data:video/mp4;base64,{}\" type=\"video/mp4\" />\n",
    "                 </video>'''.format(mp4, video_b64.decode('ascii')))\n",
    "    ipythondisplay.display(ipythondisplay.HTML(data=\"<br>\".join(html)))\n",
    "    \n",
    "env = Monitor(env, './videos', force=True, video_callable=lambda episode: True)\n",
    "\n",
    "for episode in range(1):\n",
    "    done = False\n",
    "    state = env.reset()\n",
    "    while not done:\n",
    "        action = dqn_policy(state)\n",
    "        state, reward, done, info = env.step(action)\n",
    "env.close()\n",
    "show_video()"
   ]
  },
  {
   "cell_type": "code",
   "execution_count": null,
   "metadata": {},
   "outputs": [],
   "source": []
  }
 ],
 "metadata": {
  "kernelspec": {
   "display_name": "Python 3",
   "language": "python",
   "name": "python3"
  },
  "language_info": {
   "codemirror_mode": {
    "name": "ipython",
    "version": 3
   },
   "file_extension": ".py",
   "mimetype": "text/x-python",
   "name": "python",
   "nbconvert_exporter": "python",
   "pygments_lexer": "ipython3",
   "version": "3.7.6"
  }
 },
 "nbformat": 4,
 "nbformat_minor": 4
}
