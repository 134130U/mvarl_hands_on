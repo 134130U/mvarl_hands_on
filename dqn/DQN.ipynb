{
 "cells": [
  {
   "cell_type": "markdown",
   "metadata": {},
   "source": [
    "## Colab setup"
   ]
  },
  {
   "cell_type": "code",
   "execution_count": 1,
   "metadata": {},
   "outputs": [],
   "source": [
    "!pip install gym > /dev/null 2>&1"
   ]
  },
  {
   "cell_type": "code",
   "execution_count": null,
   "metadata": {},
   "outputs": [],
   "source": [
    "!pip install gym pyvirtualdisplay > /dev/null 2>&1\n",
    "!apt-get install -y xvfb python-opengl ffmpeg > /dev/null 2>&1"
   ]
  },
  {
   "cell_type": "code",
   "execution_count": null,
   "metadata": {},
   "outputs": [],
   "source": [
    "!apt-get update > /dev/null 2>&1\n",
    "!apt-get install cmake > /dev/null 2>&1\n",
    "!pip install --upgrade setuptools 2>&1\n",
    "!pip install ez_setup > /dev/null 2>&1"
   ]
  },
  {
   "cell_type": "markdown",
   "metadata": {},
   "source": [
    "# Deep Q-Learning (DQN)\n",
    "\n",
    "\n",
    "In DQN, the $Q$-function is parameterized by a neural network of parameters $\\theta$. The network takes as input a state $s$ and outputs $Q(s, a, \\theta)$ for all actions $a$. \n",
    "\n",
    "The network is trained in way that is similar to Fitted Q Iteration. At each time $T$, the agent has observed the transitions $(s_t, a_t, r_t, s_t')_{t=1}^T$, which are stored in a __replay buffer__.\n",
    "\n",
    "In addition to the network with parameters $\\theta$, DQN keeps another network with the same architecture and parameters $\\tilde{\\theta}$, called __target network__. \n",
    "To update the parameters $\\theta$, we sample $N$ transitions from the __replay buffer__, we define the loss \n",
    "\n",
    "$$\n",
    "L(\\theta) = \\sum_{i=1}^N [Q(s_i, a_i, \\theta) - (r_i + \\gamma\\max_{a'}Q(s'_i,a', \\tilde{\\theta}))]^2\n",
    "$$\n",
    "\n",
    "and update \n",
    "\n",
    "$$\n",
    "\\theta \\gets \\theta + \\eta \\nabla L(\\theta).\n",
    "$$\n",
    "\n",
    "\n",
    "Every $C$ iterations, the target network is updated as $\\tilde{\\theta} \\gets \\theta$. \n",
    "\n",
    "At each time $t$, DQN updates the networks as described above, selects an action according to an $\\epsilon$-greedy policy, plays the action and stores the new data in the replay buffer."
   ]
  },
  {
   "cell_type": "code",
   "execution_count": 2,
   "metadata": {},
   "outputs": [],
   "source": [
    "# Imports\n",
    "import torch\n",
    "import torch.nn as nn\n",
    "import torch.nn.functional as F\n",
    "import torch.optim as optim\n",
    "import numpy as np\n",
    "import gym\n",
    "import random\n",
    "from copy import deepcopy\n",
    "\n",
    "from gym.wrappers import Monitor\n",
    "from pyvirtualdisplay import Display\n",
    "from IPython import display as ipythondisplay\n",
    "from IPython.display import clear_output\n",
    "from pathlib import Path\n",
    "import base64"
   ]
  },
  {
   "cell_type": "markdown",
   "metadata": {},
   "source": [
    "## Step 1: Define the parameters"
   ]
  },
  {
   "cell_type": "code",
   "execution_count": 3,
   "metadata": {},
   "outputs": [
    {
     "name": "stderr",
     "output_type": "stream",
     "text": [
      "/home/omardrwch/miniconda3/envs/rlpython/lib/python3.7/site-packages/gym/logger.py:30: UserWarning: \u001b[33mWARN: Box bound precision lowered by casting to float32\u001b[0m\n",
      "  warnings.warn(colorize('%s: %s'%('WARN', msg % args), 'yellow'))\n"
     ]
    }
   ],
   "source": [
    "# Environment\n",
    "env = gym.make(\"CartPole-v0\")\n",
    "\n",
    "# Discount factor\n",
    "GAMMA = 0.99\n",
    "\n",
    "# Batch size\n",
    "BATCH_SIZE = 256\n",
    "# Capacity of the replay buffer\n",
    "BUFFER_CAPACITY = 10000\n",
    "# Update target net every ... episodes\n",
    "UPDATE_TARGET_EVERY = 20\n",
    "\n",
    "# Initial value of epsilon\n",
    "EPSILON_START = 1.0\n",
    "# Parameter to decrease epsilon\n",
    "DECREASE_EPSILON = 200\n",
    "# Minimum value of epislon\n",
    "EPSILON_MIN = 0.05\n",
    "\n",
    "# Number of training episodes\n",
    "N_EPISODES = 200\n",
    "\n",
    "# Learning rate\n",
    "LEARNING_RATE = 0.1"
   ]
  },
  {
   "cell_type": "markdown",
   "metadata": {},
   "source": [
    "## Step 2: Define the replay buffer"
   ]
  },
  {
   "cell_type": "code",
   "execution_count": 4,
   "metadata": {},
   "outputs": [],
   "source": [
    "class ReplayBuffer:\n",
    "    def __init__(self, capacity):\n",
    "        self.capacity = capacity\n",
    "        self.memory = []\n",
    "        self.position = 0\n",
    "\n",
    "    def push(self, state, action, reward, next_state):\n",
    "        \"\"\"Saves a transition.\"\"\"\n",
    "        if len(self.memory) < self.capacity:\n",
    "            self.memory.append(None)\n",
    "        self.memory[self.position] = (state, action, reward, next_state)\n",
    "        self.position = (self.position + 1) % self.capacity\n",
    "\n",
    "    def sample(self, batch_size):\n",
    "        return random.sample(self.memory, batch_size)\n",
    "\n",
    "    def __len__(self):\n",
    "        return len(self.memory)"
   ]
  },
  {
   "cell_type": "code",
   "execution_count": 5,
   "metadata": {},
   "outputs": [],
   "source": [
    "# create instance of replay buffer\n",
    "replay_buffer = ReplayBuffer(BUFFER_CAPACITY)"
   ]
  },
  {
   "cell_type": "markdown",
   "metadata": {},
   "source": [
    "## Step 3: Define the neural network architecture, objective and optimizer"
   ]
  },
  {
   "cell_type": "code",
   "execution_count": 6,
   "metadata": {},
   "outputs": [],
   "source": [
    "class Net(nn.Module):\n",
    "    \"\"\"\n",
    "    Basic neural net.\n",
    "    \"\"\"\n",
    "    def __init__(self, obs_size, hidden_size, n_actions):\n",
    "        super(Net, self).__init__()\n",
    "        self.net = nn.Sequential(\n",
    "            nn.Linear(obs_size, hidden_size),\n",
    "            nn.ReLU(),\n",
    "            nn.Linear(hidden_size, n_actions)\n",
    "        )\n",
    "\n",
    "    def forward(self, x):\n",
    "        return self.net(x)"
   ]
  },
  {
   "cell_type": "code",
   "execution_count": 7,
   "metadata": {},
   "outputs": [],
   "source": [
    "# create network and target network\n",
    "hidden_size = 128\n",
    "obs_size = env.observation_space.shape[0]\n",
    "n_actions = env.action_space.n\n",
    "\n",
    "q_net = Net(obs_size, hidden_size, n_actions)\n",
    "target_net = Net(obs_size, hidden_size, n_actions)\n",
    "\n",
    "# objective and optimizer\n",
    "objective = nn.MSELoss()\n",
    "optimizer = optim.Adam(params=q_net.parameters(), lr=LEARNING_RATE)"
   ]
  },
  {
   "cell_type": "markdown",
   "metadata": {},
   "source": [
    "## Step 4: Implement DQN"
   ]
  },
  {
   "cell_type": "code",
   "execution_count": 8,
   "metadata": {},
   "outputs": [],
   "source": [
    "#\n",
    "#  Some useful functions\n",
    "#\n",
    "\n",
    "def get_q(states):\n",
    "    \"\"\"\n",
    "    Compute Q function for a list of states\n",
    "    \"\"\"\n",
    "    with torch.no_grad():\n",
    "        states_v = torch.FloatTensor([states])\n",
    "        output = q_net.forward(states_v).data.numpy()  # shape (1, len(states), dim_state)\n",
    "    return output[0, :, :]  # shape (len(states), dim_state)\n",
    "\n",
    "def dqn_policy(s):\n",
    "    \"\"\"\n",
    "    Choose action at s using q_net\n",
    "    \"\"\"\n",
    "    if not isinstance(s, np.ndarray):\n",
    "        raise TypeError(\"Vector encoding expected for state variable.\")\n",
    "    q = get_q([s])[0]\n",
    "    return q.argmax()\n",
    "\n",
    "def eval_dqn(n_sim=5):\n",
    "    \"\"\"\n",
    "    Monte Carlo evaluation of DQN agent\n",
    "    \"\"\"\n",
    "    rewards = []\n",
    "    copy_env = deepcopy(env)\n",
    "    for sim in range(n_sim):\n",
    "        done = False\n",
    "        state = copy_env.reset()\n",
    "        sim_rewards = 0.0\n",
    "        while not done:\n",
    "            action = dqn_policy(state)\n",
    "            next_state, reward, done, _ = copy_env.step(action)\n",
    "            sim_rewards += reward\n",
    "            state = next_state\n",
    "        rewards.append(sim_rewards)\n",
    "    return rewards"
   ]
  },
  {
   "cell_type": "code",
   "execution_count": 9,
   "metadata": {},
   "outputs": [],
   "source": [
    "def choose_action(state, epsilon):\n",
    "    \"\"\"\n",
    "    TO BE IMPLEMENTED\n",
    "    \n",
    "    Return action according to an epsilon-greedy exploration policy\n",
    "    \"\"\"\n",
    "    return 0\n",
    "    \n",
    "\n",
    "def update(state, action, reward, next_state, done):\n",
    "    \"\"\"\n",
    "    TO BE COMPLETED\n",
    "    \"\"\"\n",
    "    \n",
    "    # add data to replay buffer\n",
    "    if done:\n",
    "        next_state = None\n",
    "    replay_buffer.push(state, action, reward, next_state)\n",
    "    \n",
    "    if len(replay_buffer) < BATCH_SIZE:\n",
    "        return np.inf\n",
    "    \n",
    "    # get batch\n",
    "    transitions = replay_buffer.sample(BATCH_SIZE)\n",
    "    \n",
    "    # Compute loss - TO BE IMPLEMENTED!\n",
    "    values  = torch.zeros(BATCH_SIZE)   # to be computed using batch\n",
    "    targets = torch.zeros(BATCH_SIZE)   # to be computed using batch\n",
    "    loss = objective(values, targets)\n",
    "     \n",
    "    # Optimize the model - UNCOMMENT!\n",
    "#     optimizer.zero_grad()\n",
    "#     loss.backward()\n",
    "#     optimizer.step()\n",
    "    \n",
    "    return loss.data.numpy()"
   ]
  },
  {
   "cell_type": "code",
   "execution_count": 10,
   "metadata": {},
   "outputs": [
    {
     "name": "stdout",
     "output_type": "stream",
     "text": [
      "episode = 5 , reward =  9.4\n",
      "episode = 10 , reward =  9.8\n",
      "episode = 15 , reward =  9.0\n",
      "episode = 20 , reward =  8.8\n",
      "episode = 25 , reward =  8.8\n",
      "episode = 30 , reward =  9.2\n",
      "episode = 35 , reward =  9.2\n",
      "episode = 40 , reward =  9.2\n",
      "episode = 45 , reward =  9.8\n",
      "episode = 50 , reward =  9.8\n",
      "episode = 55 , reward =  9.0\n",
      "episode = 60 , reward =  9.4\n",
      "episode = 65 , reward =  9.4\n",
      "episode = 70 , reward =  9.6\n",
      "episode = 75 , reward =  9.2\n",
      "episode = 80 , reward =  9.6\n",
      "episode = 85 , reward =  9.2\n",
      "episode = 90 , reward =  9.2\n",
      "episode = 95 , reward =  9.6\n",
      "episode = 100 , reward =  10.0\n",
      "episode = 105 , reward =  9.4\n",
      "episode = 110 , reward =  8.8\n",
      "episode = 115 , reward =  9.2\n",
      "episode = 120 , reward =  9.8\n",
      "episode = 125 , reward =  9.8\n",
      "episode = 130 , reward =  8.2\n",
      "episode = 135 , reward =  9.2\n",
      "episode = 140 , reward =  10.0\n",
      "episode = 145 , reward =  9.6\n",
      "episode = 150 , reward =  9.6\n",
      "episode = 155 , reward =  9.4\n",
      "episode = 160 , reward =  9.2\n",
      "episode = 165 , reward =  9.2\n",
      "episode = 170 , reward =  9.6\n",
      "episode = 175 , reward =  9.6\n",
      "episode = 180 , reward =  9.2\n",
      "episode = 185 , reward =  9.6\n",
      "episode = 190 , reward =  9.4\n",
      "episode = 195 , reward =  9.0\n",
      "episode = 200 , reward =  9.0\n",
      "\n",
      "mean reward after training =  9.05\n"
     ]
    }
   ],
   "source": [
    "#\n",
    "# Train\n",
    "# \n",
    "\n",
    "EVAL_EVERY = 5\n",
    "REWARD_THRESHOLD = 199\n",
    "\n",
    "def train():\n",
    "    state = env.reset()\n",
    "    epsilon = EPSILON_START\n",
    "    ep = 0\n",
    "    total_time = 0\n",
    "    while ep < N_EPISODES:\n",
    "        action = choose_action(state, epsilon)\n",
    "\n",
    "        # take action and update replay buffer and networks\n",
    "        next_state, reward, done, _ = env.step(action)\n",
    "        loss = update(state, action, reward, next_state, done)\n",
    "\n",
    "        # update state\n",
    "        state = next_state\n",
    "\n",
    "        # end episode if done\n",
    "        if done:\n",
    "            state = env.reset()\n",
    "            ep   += 1\n",
    "            rewards = eval_dqn()\n",
    "            if ( (ep+1)% EVAL_EVERY == 0):\n",
    "                print(\"episode =\", ep+1, \", reward = \", np.mean(rewards))\n",
    "                if np.mean(rewards) >= REWARD_THRESHOLD:\n",
    "                    break\n",
    "\n",
    "            # update target network\n",
    "            if ep % UPDATE_TARGET_EVERY == 0:\n",
    "                target_net.load_state_dict(q_net.state_dict())\n",
    "            # decrease epsilon\n",
    "            epsilon = EPSILON_MIN + (EPSILON_START - EPSILON_MIN) * \\\n",
    "                            np.exp(-1. * ep / DECREASE_EPSILON )    \n",
    "\n",
    "        total_time += 1\n",
    "\n",
    "train()\n",
    "rewards = eval_dqn(20)\n",
    "print(\"\")\n",
    "print(\"mean reward after training = \", np.mean(rewards))"
   ]
  },
  {
   "cell_type": "markdown",
   "metadata": {},
   "source": [
    "## Visualizing the agent"
   ]
  },
  {
   "cell_type": "code",
   "execution_count": 11,
   "metadata": {},
   "outputs": [
    {
     "data": {
      "text/plain": [
       "<Display cmd_param=['Xvfb', '-br', '-nolisten', 'tcp', '-screen', '0', '1400x900x24', ':1028'] cmd=['Xvfb', '-br', '-nolisten', 'tcp', '-screen', '0', '1400x900x24', ':1028'] oserror=None return_code=None stdout=\"None\" stderr=\"None\" timeout_happened=False>"
      ]
     },
     "execution_count": 11,
     "metadata": {},
     "output_type": "execute_result"
    }
   ],
   "source": [
    "def show_video(directory):\n",
    "    html = []\n",
    "    for mp4 in Path(directory).glob(\"*.mp4\"):\n",
    "        video_b64 = base64.b64encode(mp4.read_bytes())\n",
    "        html.append('''<video alt=\"{}\" autoplay \n",
    "                      loop controls style=\"height: 400px;\">\n",
    "                      <source src=\"data:video/mp4;base64,{}\" type=\"video/mp4\" />\n",
    "                 </video>'''.format(mp4, video_b64.decode('ascii')))\n",
    "    ipythondisplay.display(ipythondisplay.HTML(data=\"<br>\".join(html)))\n",
    "    \n",
    "def make_seed(seed):\n",
    "    np.random.seed(seed=seed)\n",
    "    torch.manual_seed(seed=seed)\n",
    "  \n",
    "from pyvirtualdisplay import Display\n",
    "display = Display(visible=0, size=(1400, 900))\n",
    "display.start()"
   ]
  },
  {
   "cell_type": "code",
   "execution_count": 12,
   "metadata": {},
   "outputs": [
    {
     "data": {
      "text/html": [
       "<video alt=\"gym-results/openaigym.video.0.4839.video000000.mp4\" autoplay \n",
       "                      loop controls style=\"height: 400px;\">\n",
       "                      <source src=\"data:video/mp4;base64,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\" type=\"video/mp4\" />\n",
       "                 </video>"
      ],
      "text/plain": [
       "<IPython.core.display.HTML object>"
      ]
     },
     "metadata": {},
     "output_type": "display_data"
    }
   ],
   "source": [
    "env = Monitor(env, \"./gym-results\", force=True, video_callable=lambda episode: True)\n",
    "for episode in range(1):\n",
    "    done = False\n",
    "    state = env.reset()\n",
    "    while not done:\n",
    "        action = dqn_policy(state)\n",
    "        state, reward, done, info = env.step(action)\n",
    "env.close()\n",
    "show_video(\"./gym-results\")"
   ]
  }
 ],
 "metadata": {
  "kernelspec": {
   "display_name": "Python 3",
   "language": "python",
   "name": "python3"
  },
  "language_info": {
   "codemirror_mode": {
    "name": "ipython",
    "version": 3
   },
   "file_extension": ".py",
   "mimetype": "text/x-python",
   "name": "python",
   "nbconvert_exporter": "python",
   "pygments_lexer": "ipython3",
   "version": "3.7.6"
  }
 },
 "nbformat": 4,
 "nbformat_minor": 4
}
